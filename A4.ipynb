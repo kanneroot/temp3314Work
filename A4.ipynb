{
 "cells": [
  {
   "cell_type": "code",
   "execution_count": 1,
   "metadata": {},
   "outputs": [
    {
     "name": "stdout",
     "output_type": "stream",
     "text": [
      "Requirement already satisfied: numpy in c:\\users\\user\\appdata\\roaming\\python\\python312\\site-packages (2.1.1)\n",
      "Requirement already satisfied: pandas in c:\\users\\user\\appdata\\roaming\\python\\python312\\site-packages (2.2.2)\n",
      "Collecting matplotlib\n",
      "  Downloading matplotlib-3.9.2-cp312-cp312-win_amd64.whl.metadata (11 kB)\n",
      "Collecting scikit-learn\n",
      "  Downloading scikit_learn-1.5.2-cp312-cp312-win_amd64.whl.metadata (13 kB)\n",
      "Collecting opencv-python\n",
      "  Downloading opencv_python-4.10.0.84-cp37-abi3-win_amd64.whl.metadata (20 kB)\n",
      "Requirement already satisfied: python-dateutil>=2.8.2 in c:\\users\\user\\appdata\\roaming\\python\\python312\\site-packages (from pandas) (2.9.0.post0)\n",
      "Requirement already satisfied: pytz>=2020.1 in c:\\users\\user\\appdata\\roaming\\python\\python312\\site-packages (from pandas) (2024.2)\n",
      "Requirement already satisfied: tzdata>=2022.7 in c:\\users\\user\\appdata\\roaming\\python\\python312\\site-packages (from pandas) (2024.1)\n",
      "Collecting contourpy>=1.0.1 (from matplotlib)\n",
      "  Downloading contourpy-1.3.1-cp312-cp312-win_amd64.whl.metadata (5.4 kB)\n",
      "Collecting cycler>=0.10 (from matplotlib)\n",
      "  Downloading cycler-0.12.1-py3-none-any.whl.metadata (3.8 kB)\n",
      "Collecting fonttools>=4.22.0 (from matplotlib)\n",
      "  Downloading fonttools-4.55.0-cp312-cp312-win_amd64.whl.metadata (167 kB)\n",
      "Collecting kiwisolver>=1.3.1 (from matplotlib)\n",
      "  Downloading kiwisolver-1.4.7-cp312-cp312-win_amd64.whl.metadata (6.4 kB)\n",
      "Requirement already satisfied: packaging>=20.0 in c:\\users\\user\\appdata\\roaming\\python\\python312\\site-packages (from matplotlib) (24.1)\n",
      "Collecting pillow>=8 (from matplotlib)\n",
      "  Downloading pillow-11.0.0-cp312-cp312-win_amd64.whl.metadata (9.3 kB)\n",
      "Collecting pyparsing>=2.3.1 (from matplotlib)\n",
      "  Downloading pyparsing-3.2.0-py3-none-any.whl.metadata (5.0 kB)\n",
      "Collecting scipy>=1.6.0 (from scikit-learn)\n",
      "  Downloading scipy-1.14.1-cp312-cp312-win_amd64.whl.metadata (60 kB)\n",
      "Collecting joblib>=1.2.0 (from scikit-learn)\n",
      "  Downloading joblib-1.4.2-py3-none-any.whl.metadata (5.4 kB)\n",
      "Collecting threadpoolctl>=3.1.0 (from scikit-learn)\n",
      "  Downloading threadpoolctl-3.5.0-py3-none-any.whl.metadata (13 kB)\n",
      "Requirement already satisfied: six>=1.5 in c:\\users\\user\\appdata\\roaming\\python\\python312\\site-packages (from python-dateutil>=2.8.2->pandas) (1.16.0)\n",
      "Downloading matplotlib-3.9.2-cp312-cp312-win_amd64.whl (7.8 MB)\n",
      "   ---------------------------------------- 0.0/7.8 MB ? eta -:--:--\n",
      "   ---------------------------------------- 0.0/7.8 MB ? eta -:--:--\n",
      "   ---------------------------------------- 0.0/7.8 MB ? eta -:--:--\n",
      "   ---------------------------------------- 0.0/7.8 MB ? eta -:--:--\n",
      "   - -------------------------------------- 0.3/7.8 MB ? eta -:--:--\n",
      "   - -------------------------------------- 0.3/7.8 MB ? eta -:--:--\n",
      "   -- ------------------------------------- 0.5/7.8 MB 578.7 kB/s eta 0:00:13\n",
      "   -- ------------------------------------- 0.5/7.8 MB 578.7 kB/s eta 0:00:13\n",
      "   ---- ----------------------------------- 0.8/7.8 MB 599.2 kB/s eta 0:00:12\n",
      "   ---- ----------------------------------- 0.8/7.8 MB 599.2 kB/s eta 0:00:12\n",
      "   ----- ---------------------------------- 1.0/7.8 MB 621.2 kB/s eta 0:00:11\n",
      "   ----- ---------------------------------- 1.0/7.8 MB 621.2 kB/s eta 0:00:11\n",
      "   ------ --------------------------------- 1.3/7.8 MB 645.3 kB/s eta 0:00:11\n",
      "   -------- ------------------------------- 1.6/7.8 MB 693.1 kB/s eta 0:00:10\n",
      "   --------- ------------------------------ 1.8/7.8 MB 729.5 kB/s eta 0:00:09\n",
      "   ---------- ----------------------------- 2.1/7.8 MB 767.5 kB/s eta 0:00:08\n",
      "   ------------ --------------------------- 2.4/7.8 MB 794.1 kB/s eta 0:00:07\n",
      "   ------------ --------------------------- 2.4/7.8 MB 794.1 kB/s eta 0:00:07\n",
      "   ------------- -------------------------- 2.6/7.8 MB 816.1 kB/s eta 0:00:07\n",
      "   -------------- ------------------------- 2.9/7.8 MB 843.2 kB/s eta 0:00:06\n",
      "   ---------------- ----------------------- 3.1/7.8 MB 866.5 kB/s eta 0:00:06\n",
      "   ----------------- ---------------------- 3.4/7.8 MB 886.9 kB/s eta 0:00:05\n",
      "   ------------------ --------------------- 3.7/7.8 MB 912.7 kB/s eta 0:00:05\n",
      "   --------------------- ------------------ 4.2/7.8 MB 949.6 kB/s eta 0:00:04\n",
      "   ---------------------- ----------------- 4.5/7.8 MB 972.5 kB/s eta 0:00:04\n",
      "   ------------------------ --------------- 4.7/7.8 MB 997.2 kB/s eta 0:00:04\n",
      "   -------------------------- ------------- 5.2/7.8 MB 1.0 MB/s eta 0:00:03\n",
      "   ---------------------------- ----------- 5.5/7.8 MB 1.1 MB/s eta 0:00:03\n",
      "   ----------------------------- ---------- 5.8/7.8 MB 1.1 MB/s eta 0:00:02\n",
      "   -------------------------------- ------- 6.3/7.8 MB 1.1 MB/s eta 0:00:02\n",
      "   --------------------------------- ------ 6.6/7.8 MB 1.1 MB/s eta 0:00:02\n",
      "   ------------------------------------ --- 7.1/7.8 MB 1.2 MB/s eta 0:00:01\n",
      "   ------------------------------------- -- 7.3/7.8 MB 1.2 MB/s eta 0:00:01\n",
      "   ---------------------------------------- 7.8/7.8 MB 1.2 MB/s eta 0:00:00\n",
      "Downloading scikit_learn-1.5.2-cp312-cp312-win_amd64.whl (11.0 MB)\n",
      "   ---------------------------------------- 0.0/11.0 MB ? eta -:--:--\n",
      "    --------------------------------------- 0.3/11.0 MB ? eta -:--:--\n",
      "   -- ------------------------------------- 0.8/11.0 MB 2.0 MB/s eta 0:00:06\n",
      "   ---- ----------------------------------- 1.3/11.0 MB 2.1 MB/s eta 0:00:05\n",
      "   ------ --------------------------------- 1.8/11.0 MB 2.2 MB/s eta 0:00:05\n",
      "   -------- ------------------------------- 2.4/11.0 MB 2.3 MB/s eta 0:00:04\n",
      "   ---------- ----------------------------- 2.9/11.0 MB 2.3 MB/s eta 0:00:04\n",
      "   ------------ --------------------------- 3.4/11.0 MB 2.4 MB/s eta 0:00:04\n",
      "   -------------- ------------------------- 3.9/11.0 MB 2.4 MB/s eta 0:00:03\n",
      "   ---------------- ----------------------- 4.5/11.0 MB 2.4 MB/s eta 0:00:03\n",
      "   ------------------- -------------------- 5.2/11.0 MB 2.5 MB/s eta 0:00:03\n",
      "   -------------------- ------------------- 5.8/11.0 MB 2.6 MB/s eta 0:00:03\n",
      "   ----------------------- ---------------- 6.6/11.0 MB 2.6 MB/s eta 0:00:02\n",
      "   ------------------------- -------------- 7.1/11.0 MB 2.6 MB/s eta 0:00:02\n",
      "   ---------------------------- ----------- 7.9/11.0 MB 2.7 MB/s eta 0:00:02\n",
      "   ------------------------------- -------- 8.7/11.0 MB 2.7 MB/s eta 0:00:01\n",
      "   --------------------------------- ------ 9.2/11.0 MB 2.8 MB/s eta 0:00:01\n",
      "   ------------------------------------ --- 10.0/11.0 MB 2.8 MB/s eta 0:00:01\n",
      "   ---------------------------------------  10.7/11.0 MB 2.9 MB/s eta 0:00:01\n",
      "   ---------------------------------------- 11.0/11.0 MB 2.9 MB/s eta 0:00:00\n",
      "Downloading opencv_python-4.10.0.84-cp37-abi3-win_amd64.whl (38.8 MB)\n",
      "   ---------------------------------------- 0.0/38.8 MB ? eta -:--:--\n",
      "    --------------------------------------- 0.8/38.8 MB 3.7 MB/s eta 0:00:11\n",
      "   - -------------------------------------- 1.6/38.8 MB 3.8 MB/s eta 0:00:10\n",
      "   -- ------------------------------------- 2.4/38.8 MB 3.9 MB/s eta 0:00:10\n",
      "   -- ------------------------------------- 2.9/38.8 MB 3.6 MB/s eta 0:00:10\n",
      "   ---- ----------------------------------- 3.9/38.8 MB 3.7 MB/s eta 0:00:10\n",
      "   ---- ----------------------------------- 4.5/38.8 MB 3.6 MB/s eta 0:00:10\n",
      "   ----- ---------------------------------- 5.5/38.8 MB 3.7 MB/s eta 0:00:10\n",
      "   ------ --------------------------------- 6.6/38.8 MB 3.9 MB/s eta 0:00:09\n",
      "   ------- -------------------------------- 7.3/38.8 MB 4.0 MB/s eta 0:00:08\n",
      "   ------- -------------------------------- 7.3/38.8 MB 4.0 MB/s eta 0:00:08\n",
      "   --------- ------------------------------ 8.9/38.8 MB 3.8 MB/s eta 0:00:08\n",
      "   --------- ------------------------------ 9.2/38.8 MB 3.8 MB/s eta 0:00:08\n",
      "   ---------- ----------------------------- 10.2/38.8 MB 3.7 MB/s eta 0:00:08\n",
      "   ----------- ---------------------------- 11.5/38.8 MB 3.9 MB/s eta 0:00:08\n",
      "   ------------ --------------------------- 12.6/38.8 MB 4.0 MB/s eta 0:00:07\n",
      "   -------------- ------------------------- 13.9/38.8 MB 4.1 MB/s eta 0:00:07\n",
      "   --------------- ------------------------ 14.9/38.8 MB 4.2 MB/s eta 0:00:06\n",
      "   ----------------- ---------------------- 16.5/38.8 MB 4.3 MB/s eta 0:00:06\n",
      "   ----------------- ---------------------- 17.3/38.8 MB 4.3 MB/s eta 0:00:05\n",
      "   ----------------- ---------------------- 17.3/38.8 MB 4.3 MB/s eta 0:00:05\n",
      "   ----------------- ---------------------- 17.3/38.8 MB 4.3 MB/s eta 0:00:05\n",
      "   ------------------ --------------------- 18.1/38.8 MB 4.0 MB/s eta 0:00:06\n",
      "   -------------------- ------------------- 20.2/38.8 MB 4.2 MB/s eta 0:00:05\n",
      "   ---------------------- ----------------- 21.8/38.8 MB 4.3 MB/s eta 0:00:04\n",
      "   ---------------------- ----------------- 22.0/38.8 MB 4.2 MB/s eta 0:00:04\n",
      "   ----------------------- ---------------- 23.1/38.8 MB 4.2 MB/s eta 0:00:04\n",
      "   ------------------------ --------------- 23.6/38.8 MB 4.2 MB/s eta 0:00:04\n",
      "   ------------------------- -------------- 24.6/38.8 MB 4.2 MB/s eta 0:00:04\n",
      "   ------------------------- -------------- 24.6/38.8 MB 4.2 MB/s eta 0:00:04\n",
      "   -------------------------- ------------- 25.4/38.8 MB 4.0 MB/s eta 0:00:04\n",
      "   -------------------------- ------------- 25.4/38.8 MB 4.0 MB/s eta 0:00:04\n",
      "   --------------------------- ------------ 26.7/38.8 MB 4.0 MB/s eta 0:00:04\n",
      "   ---------------------------- ----------- 28.0/38.8 MB 4.0 MB/s eta 0:00:03\n",
      "   ----------------------------- ---------- 28.3/38.8 MB 4.0 MB/s eta 0:00:03\n",
      "   ------------------------------ --------- 29.9/38.8 MB 4.0 MB/s eta 0:00:03\n",
      "   ------------------------------ --------- 29.9/38.8 MB 4.0 MB/s eta 0:00:03\n",
      "   ------------------------------- -------- 30.9/38.8 MB 4.0 MB/s eta 0:00:02\n",
      "   -------------------------------- ------- 32.0/38.8 MB 4.0 MB/s eta 0:00:02\n",
      "   --------------------------------- ------ 32.2/38.8 MB 4.0 MB/s eta 0:00:02\n",
      "   ---------------------------------- ----- 33.6/38.8 MB 4.0 MB/s eta 0:00:02\n",
      "   ----------------------------------- ---- 34.9/38.8 MB 4.0 MB/s eta 0:00:01\n",
      "   ------------------------------------ --- 35.7/38.8 MB 4.1 MB/s eta 0:00:01\n",
      "   ------------------------------------- -- 36.2/38.8 MB 4.0 MB/s eta 0:00:01\n",
      "   -------------------------------------- - 37.0/38.8 MB 4.1 MB/s eta 0:00:01\n",
      "   -------------------------------------- - 37.5/38.8 MB 4.0 MB/s eta 0:00:01\n",
      "   ---------------------------------------  38.3/38.8 MB 3.9 MB/s eta 0:00:01\n",
      "   ---------------------------------------  38.3/38.8 MB 3.9 MB/s eta 0:00:01\n",
      "   ---------------------------------------  38.5/38.8 MB 3.9 MB/s eta 0:00:01\n",
      "   ---------------------------------------- 38.8/38.8 MB 3.8 MB/s eta 0:00:00\n",
      "Downloading contourpy-1.3.1-cp312-cp312-win_amd64.whl (220 kB)\n",
      "Downloading cycler-0.12.1-py3-none-any.whl (8.3 kB)\n",
      "Downloading fonttools-4.55.0-cp312-cp312-win_amd64.whl (2.2 MB)\n",
      "   ---------------------------------------- 0.0/2.2 MB ? eta -:--:--\n",
      "   ---- ----------------------------------- 0.3/2.2 MB ? eta -:--:--\n",
      "   --------- ------------------------------ 0.5/2.2 MB 1.4 MB/s eta 0:00:02\n",
      "   -------------- ------------------------- 0.8/2.2 MB 1.6 MB/s eta 0:00:01\n",
      "   ----------------------- ---------------- 1.3/2.2 MB 1.8 MB/s eta 0:00:01\n",
      "   --------------------------------- ------ 1.8/2.2 MB 1.9 MB/s eta 0:00:01\n",
      "   ---------------------------------------- 2.2/2.2 MB 1.9 MB/s eta 0:00:00\n",
      "Downloading joblib-1.4.2-py3-none-any.whl (301 kB)\n",
      "Downloading kiwisolver-1.4.7-cp312-cp312-win_amd64.whl (55 kB)\n",
      "Downloading pillow-11.0.0-cp312-cp312-win_amd64.whl (2.6 MB)\n",
      "   ---------------------------------------- 0.0/2.6 MB ? eta -:--:--\n",
      "   -------- ------------------------------- 0.5/2.6 MB 2.8 MB/s eta 0:00:01\n",
      "   ---------------- ----------------------- 1.0/2.6 MB 2.6 MB/s eta 0:00:01\n",
      "   ------------------------ --------------- 1.6/2.6 MB 2.5 MB/s eta 0:00:01\n",
      "   -------------------------------- ------- 2.1/2.6 MB 2.5 MB/s eta 0:00:01\n",
      "   ---------------------------------------- 2.6/2.6 MB 2.5 MB/s eta 0:00:00\n",
      "Downloading pyparsing-3.2.0-py3-none-any.whl (106 kB)\n",
      "Downloading scipy-1.14.1-cp312-cp312-win_amd64.whl (44.5 MB)\n",
      "   ---------------------------------------- 0.0/44.5 MB ? eta -:--:--\n",
      "   ---------------------------------------- 0.5/44.5 MB 2.8 MB/s eta 0:00:16\n",
      "    --------------------------------------- 1.0/44.5 MB 3.1 MB/s eta 0:00:14\n",
      "   - -------------------------------------- 1.8/44.5 MB 3.0 MB/s eta 0:00:15\n",
      "   -- ------------------------------------- 2.6/44.5 MB 3.1 MB/s eta 0:00:14\n",
      "   -- ------------------------------------- 3.1/44.5 MB 3.2 MB/s eta 0:00:13\n",
      "   --- ------------------------------------ 3.9/44.5 MB 3.2 MB/s eta 0:00:13\n",
      "   ---- ----------------------------------- 4.7/44.5 MB 3.3 MB/s eta 0:00:13\n",
      "   ---- ----------------------------------- 5.5/44.5 MB 3.3 MB/s eta 0:00:12\n",
      "   ----- ---------------------------------- 6.3/44.5 MB 3.4 MB/s eta 0:00:12\n",
      "   ------ --------------------------------- 7.1/44.5 MB 3.4 MB/s eta 0:00:11\n",
      "   ------- -------------------------------- 7.9/44.5 MB 3.5 MB/s eta 0:00:11\n",
      "   -------- ------------------------------- 8.9/44.5 MB 3.5 MB/s eta 0:00:11\n",
      "   -------- ------------------------------- 10.0/44.5 MB 3.6 MB/s eta 0:00:10\n",
      "   --------- ------------------------------ 10.7/44.5 MB 3.7 MB/s eta 0:00:10\n",
      "   ---------- ----------------------------- 11.8/44.5 MB 3.8 MB/s eta 0:00:09\n",
      "   ----------- ---------------------------- 12.8/44.5 MB 3.8 MB/s eta 0:00:09\n",
      "   ------------ --------------------------- 13.9/44.5 MB 3.9 MB/s eta 0:00:08\n",
      "   ------------- -------------------------- 15.2/44.5 MB 4.0 MB/s eta 0:00:08\n",
      "   -------------- ------------------------- 16.3/44.5 MB 4.1 MB/s eta 0:00:07\n",
      "   --------------- ------------------------ 17.6/44.5 MB 4.1 MB/s eta 0:00:07\n",
      "   ---------------- ----------------------- 18.6/44.5 MB 4.2 MB/s eta 0:00:07\n",
      "   ----------------- ---------------------- 19.7/44.5 MB 4.3 MB/s eta 0:00:06\n",
      "   ------------------ --------------------- 20.2/44.5 MB 4.3 MB/s eta 0:00:06\n",
      "   -------------------- ------------------- 22.3/44.5 MB 4.4 MB/s eta 0:00:06\n",
      "   -------------------- ------------------- 23.3/44.5 MB 4.5 MB/s eta 0:00:05\n",
      "   ---------------------- ----------------- 25.2/44.5 MB 4.6 MB/s eta 0:00:05\n",
      "   ----------------------- ---------------- 26.5/44.5 MB 4.7 MB/s eta 0:00:04\n",
      "   ------------------------ --------------- 26.7/44.5 MB 4.5 MB/s eta 0:00:04\n",
      "   ------------------------- -------------- 28.8/44.5 MB 4.7 MB/s eta 0:00:04\n",
      "   -------------------------- ------------- 29.9/44.5 MB 4.8 MB/s eta 0:00:04\n",
      "   ---------------------------- ----------- 31.2/44.5 MB 4.8 MB/s eta 0:00:03\n",
      "   ---------------------------- ----------- 31.7/44.5 MB 4.8 MB/s eta 0:00:03\n",
      "   ----------------------------- ---------- 32.8/44.5 MB 4.7 MB/s eta 0:00:03\n",
      "   ------------------------------ --------- 33.6/44.5 MB 4.7 MB/s eta 0:00:03\n",
      "   ------------------------------- -------- 34.9/44.5 MB 4.7 MB/s eta 0:00:03\n",
      "   --------------------------------- ------ 37.2/44.5 MB 4.9 MB/s eta 0:00:02\n",
      "   ---------------------------------- ----- 38.5/44.5 MB 4.9 MB/s eta 0:00:02\n",
      "   ------------------------------------ --- 40.1/44.5 MB 5.0 MB/s eta 0:00:01\n",
      "   ------------------------------------- -- 41.4/44.5 MB 5.1 MB/s eta 0:00:01\n",
      "   ------------------------------------- -- 41.9/44.5 MB 4.9 MB/s eta 0:00:01\n",
      "   ---------------------------------------  43.8/44.5 MB 5.1 MB/s eta 0:00:01\n",
      "   ---------------------------------------  44.3/44.5 MB 5.0 MB/s eta 0:00:01\n",
      "   ---------------------------------------- 44.5/44.5 MB 4.9 MB/s eta 0:00:00\n",
      "Downloading threadpoolctl-3.5.0-py3-none-any.whl (18 kB)\n",
      "Installing collected packages: threadpoolctl, scipy, pyparsing, pillow, opencv-python, kiwisolver, joblib, fonttools, cycler, contourpy, scikit-learn, matplotlib\n",
      "Successfully installed contourpy-1.3.1 cycler-0.12.1 fonttools-4.55.0 joblib-1.4.2 kiwisolver-1.4.7 matplotlib-3.9.2 opencv-python-4.10.0.84 pillow-11.0.0 pyparsing-3.2.0 scikit-learn-1.5.2 scipy-1.14.1 threadpoolctl-3.5.0\n",
      "Note: you may need to restart the kernel to use updated packages.\n"
     ]
    }
   ],
   "source": [
    "%pip install numpy pandas matplotlib scikit-learn opencv-python"
   ]
  },
  {
   "cell_type": "markdown",
   "metadata": {},
   "source": [
    "# Import Library"
   ]
  },
  {
   "cell_type": "code",
   "execution_count": 2,
   "metadata": {},
   "outputs": [
    {
     "name": "stderr",
     "output_type": "stream",
     "text": [
      "Matplotlib is building the font cache; this may take a moment.\n"
     ]
    }
   ],
   "source": [
    "import numpy as np\n",
    "import pandas as pd\n",
    "import matplotlib.pyplot as plt\n",
    "from sklearn.decomposition import PCA\n",
    "from sklearn.svm import SVC\n",
    "from sklearn.metrics import accuracy_score, confusion_matrix, classification_report\n",
    "from sklearn.model_selection import train_test_split, GridSearchCV\n",
    "import cv2\n",
    "import os\n"
   ]
  },
  {
   "cell_type": "markdown",
   "metadata": {},
   "source": [
    "# Load Dataset"
   ]
  },
  {
   "cell_type": "code",
   "execution_count": 3,
   "metadata": {},
   "outputs": [],
   "source": [
    "train_df = pd.read_csv('train.csv')\n",
    "test_df = pd.read_csv('test.csv')"
   ]
  },
  {
   "cell_type": "markdown",
   "metadata": {},
   "source": [
    "# Process"
   ]
  },
  {
   "cell_type": "code",
   "execution_count": 5,
   "metadata": {},
   "outputs": [],
   "source": [
    "from concurrent.futures import ThreadPoolExecutor\n",
    "\n",
    "def load_and_preprocess_image(image_path):\n",
    "    # Read image\n",
    "    img = cv2.imread(image_path)\n",
    "    if img is None:\n",
    "        return None\n",
    "    # Resize image to a fixed size, e.g., 64x64\n",
    "    img = cv2.resize(img, (64, 64))\n",
    "    # Flatten the image\n",
    "    img_flat = img.flatten()\n",
    "    return img_flat\n",
    "\n",
    "def load_images_threading(image_paths):\n",
    "    X = []\n",
    "    with ThreadPoolExecutor(max_workers=8) as executor:\n",
    "        results = executor.map(load_and_preprocess_image, image_paths)\n",
    "    for result in results:\n",
    "        if result is not None:\n",
    "            X.append(result)\n",
    "    return np.array(X)\n",
    "\n",
    "train_ims_path = 'train_ims'\n",
    "\n",
    "image_paths = [os.path.join(train_ims_path, name)for name in train_df['im_name']]\n",
    "\n",
    "X_train = load_images_threading(image_paths)\n",
    "y_train = train_df['label'].values\n"
   ]
  },
  {
   "cell_type": "markdown",
   "metadata": {},
   "source": [
    "# Feature Extraction with PCA"
   ]
  },
  {
   "cell_type": "code",
   "execution_count": 6,
   "metadata": {},
   "outputs": [
    {
     "data": {
      "image/png": "[encoded data removed]",
      "text/plain": [
       "<Figure size 640x480 with 1 Axes>"
      ]
     },
     "metadata": {},
     "output_type": "display_data"
    }
   ],
   "source": [
    "from sklearn.preprocessing import StandardScaler\n",
    "\n",
    "scaler = StandardScaler()\n",
    "X_train_scaled = scaler.fit_transform(X_train)\n",
    "pca = PCA(n_components=100)  # Adjust the number based on variance explained\n",
    "X_train_pca = pca.fit_transform(X_train_scaled)\n",
    "plt.plot(np.cumsum(pca.explained_variance_ratio_))\n",
    "plt.xlabel('Number of Components')\n",
    "plt.ylabel('Cumulative Explained Variance')\n",
    "plt.show()\n",
    "\n"
   ]
  },
  {
   "cell_type": "markdown",
   "metadata": {},
   "source": [
    "# Model Training with SVM"
   ]
  },
  {
   "cell_type": "code",
   "execution_count": null,
   "metadata": {},
   "outputs": [
    {
     "name": "stdout",
     "output_type": "stream",
     "text": [
      "Fitting 5 folds for each of 9 candidates, totalling 45 fits\n",
      "[CV] END .........................C=0.1, gamma=1, kernel=rbf; total time= 9.6min\n",
      "[CV] END .........................C=0.1, gamma=1, kernel=rbf; total time= 5.2min\n",
      "[CV] END .........................C=0.1, gamma=1, kernel=rbf; total time= 6.3min\n",
      "[CV] END .........................C=0.1, gamma=1, kernel=rbf; total time= 5.5min\n",
      "[CV] END .........................C=0.1, gamma=1, kernel=rbf; total time= 5.8min\n",
      "[CV] END .......................C=0.1, gamma=0.1, kernel=rbf; total time= 6.7min\n",
      "[CV] END .......................C=0.1, gamma=0.1, kernel=rbf; total time= 6.6min\n",
      "[CV] END .......................C=0.1, gamma=0.1, kernel=rbf; total time= 6.1min\n"
     ]
    }
   ],
   "source": [
    "X_tr, X_val, y_tr, y_val = train_test_split(X_train_pca, y_train, test_size=0.2, random_state=42)\n",
    "param_grid = {\n",
    "    'C': [0.1, 1, 10],\n",
    "    'gamma': [1, 0.1, 0.01],\n",
    "    'kernel': ['rbf']\n",
    "}\n",
    "\n",
    "grid = GridSearchCV(SVC(), param_grid, refit=True, verbose=2)\n",
    "grid.fit(X_tr, y_tr)\n",
    "print(\"Best Parameters:\", grid.best_params_)\n",
    "svm_model = grid.best_estimator_\n",
    "\n"
   ]
  },
  {
   "cell_type": "markdown",
   "metadata": {},
   "source": [
    "# Model Evaluation"
   ]
  },
  {
   "cell_type": "code",
   "execution_count": null,
   "metadata": {},
   "outputs": [],
   "source": [
    "y_pred = svm_model.predict(X_val)\n",
    "print(\"Accuracy:\", accuracy_score(y_val, y_pred))\n",
    "print(\"Classification Report:\")\n",
    "print(classification_report(y_val, y_pred))\n",
    "\n",
    "\n",
    "conf_mat = confusion_matrix(y_val, y_pred)\n",
    "plt.figure(figsize=(10,7))\n",
    "sns.heatmap(conf_mat, annot=True)\n",
    "plt.xlabel('Predicted')\n",
    "plt.ylabel('True')\n",
    "plt.show()\n"
   ]
  },
  {
   "cell_type": "markdown",
   "metadata": {},
   "source": [
    "# Prepare Test Data"
   ]
  },
  {
   "cell_type": "code",
   "execution_count": null,
   "metadata": {},
   "outputs": [],
   "source": [
    "X_test = []\n",
    "im_names = []\n",
    "\n",
    "test_ims_path = 'test_ims'\n",
    "\n",
    "for index, row in test_df.iterrows():\n",
    "    image_path = os.path.join(test_ims_path, row['im_name'])\n",
    "    img_flat = load_and_preprocess_image(image_path)\n",
    "    X_test.append(img_flat)\n",
    "    im_names.append(row['im_name'])\n",
    "\n",
    "X_test = np.array(X_test)\n",
    "\n",
    "X_test_scaled = scaler.transform(X_test)\n",
    "X_test_pca = pca.transform(X_test_scaled)\n"
   ]
  },
  {
   "cell_type": "markdown",
   "metadata": {},
   "source": [
    "# Make Predictions on Test Data"
   ]
  },
  {
   "cell_type": "code",
   "execution_count": null,
   "metadata": {},
   "outputs": [],
   "source": [
    "test_predictions = svm_model.predict(X_test_pca)\n"
   ]
  },
  {
   "cell_type": "markdown",
   "metadata": {},
   "source": [
    "# Additional Tips"
   ]
  },
  {
   "cell_type": "code",
   "execution_count": null,
   "metadata": {},
   "outputs": [],
   "source": [
    "from sklearn.model_selection import cross_val_score\n",
    "\n",
    "scores = cross_val_score(svm_model, X_train_pca, y_train, cv=5)\n",
    "print(\"Cross-validation scores:\", scores)\n",
    "print(\"Mean cross-validation score:\", scores.mean())\n"
   ]
  },
  {
   "cell_type": "markdown",
   "metadata": {},
   "source": [
    "# Debug"
   ]
  },
  {
   "cell_type": "code",
   "execution_count": null,
   "metadata": {},
   "outputs": [
    {
     "name": "stdout",
     "output_type": "stream",
     "text": [
      "(8550, 100) (50000,)\n"
     ]
    }
   ],
   "source": [
    "print(X_train_pca.shape, y_train.shape)\n"
   ]
  },
  {
   "cell_type": "code",
   "execution_count": null,
   "metadata": {},
   "outputs": [
    {
     "name": "stdout",
     "output_type": "stream",
     "text": [
      "/content/drive/MyDrive/3314 ML/COMP3314_A3/hku-comp3314-2024-1a-a3-image-classification-challenge/train_ims\n",
      "8550\n"
     ]
    }
   ],
   "source": [
    "%cd /content/drive/MyDrive/3314 ML/COMP3314_A3/hku-comp3314-2024-1a-a3-image-classification-challenge/train_ims\n",
    "!ls -1 | wc -l"
   ]
  },
  {
   "cell_type": "code",
   "execution_count": null,
   "metadata": {},
   "outputs": [],
   "source": []
  }
 ],
 "metadata": {
  "kernelspec": {
   "display_name": "ml",
   "language": "python",
   "name": "python3"
  },
  "language_info": {
   "codemirror_mode": {
    "name": "ipython",
    "version": 3
   },
   "file_extension": ".py",
   "mimetype": "text/x-python",
   "name": "python",
   "nbconvert_exporter": "python",
   "pygments_lexer": "ipython3",
   "version": "3.12.7"
  }
 },
 "nbformat": 4,
 "nbformat_minor": 2
}
